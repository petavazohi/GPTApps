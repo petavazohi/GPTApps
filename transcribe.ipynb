{
 "cells": [
  {
   "cell_type": "code",
   "execution_count": 2,
   "metadata": {},
   "outputs": [
    {
     "name": "stderr",
     "output_type": "stream",
     "text": [
      "c:\\Users\\ptava\\.conda\\envs\\whisper\\Lib\\site-packages\\torchaudio\\backend\\utils.py:74: UserWarning: No audio backend is available.\n",
      "  warnings.warn(\"No audio backend is available.\")\n"
     ]
    },
    {
     "data": {
      "text/plain": [
       "'cpu'"
      ]
     },
     "execution_count": 2,
     "metadata": {},
     "output_type": "execute_result"
    }
   ],
   "source": [
    "import whisper\n",
    "import torch\n",
    "import pandas as pd\n",
    "import whisper\n",
    "import torchaudio\n",
    "\n",
    "from tqdm.notebook import tqdm\n",
    "DEVICE = \"cuda\" if torch.cuda.is_available() else \"cpu\"\n",
    "DEVICE"
   ]
  },
  {
   "cell_type": "code",
   "execution_count": 4,
   "metadata": {},
   "outputs": [],
   "source": [
    "class LibriSpeech(torch.utils.data.Dataset):\n",
    "    \"\"\"\n",
    "    A simple class to wrap LibriSpeech and trim/pad the audio to 30 seconds.\n",
    "    It will drop the last few seconds of a very small portion of the utterances.\n",
    "    \"\"\"\n",
    "    def __init__(self, split=\"test-clean\", device=DEVICE):\n",
    "        self.dataset = torchaudio.datasets.LIBRISPEECH(\n",
    "            root=os.path.expanduser(\"~/.cache\"),\n",
    "            url=split,\n",
    "            download=True,\n",
    "        )\n",
    "        self.device = device\n",
    "\n",
    "    def __len__(self):\n",
    "        return len(self.dataset)\n",
    "\n",
    "    def __getitem__(self, item):\n",
    "        audio, sample_rate, text, _, _, _ = self.dataset[item]\n",
    "        assert sample_rate == 16000\n",
    "        audio = whisper.pad_or_trim(audio.flatten()).to(self.device)\n",
    "        mel = whisper.log_mel_spectrogram(audio)\n",
    "        \n",
    "        return (mel, text)"
   ]
  },
  {
   "cell_type": "code",
   "execution_count": null,
   "metadata": {},
   "outputs": [],
   "source": [
    "dataset = LibriSpeech(\"test-clean\")\n",
    "loader = torch.utils.data.DataLoader(dataset, batch_size=16)"
   ]
  },
  {
   "cell_type": "code",
   "execution_count": 3,
   "metadata": {},
   "outputs": [
    {
     "ename": "NameError",
     "evalue": "name 'model' is not defined",
     "output_type": "error",
     "traceback": [
      "\u001b[1;31m---------------------------------------------------------------------------\u001b[0m",
      "\u001b[1;31mNameError\u001b[0m                                 Traceback (most recent call last)",
      "Cell \u001b[1;32mIn[3], line 4\u001b[0m\n\u001b[0;32m      2\u001b[0m audio \u001b[39m=\u001b[39m whisper\u001b[39m.\u001b[39mpad_or_trim(audio)\n\u001b[0;32m      3\u001b[0m \u001b[39m# make log-Mel spectrogram and move to the same device as the model\u001b[39;00m\n\u001b[1;32m----> 4\u001b[0m mel \u001b[39m=\u001b[39m whisper\u001b[39m.\u001b[39mlog_mel_spectrogram(audio)\u001b[39m.\u001b[39mto(model\u001b[39m.\u001b[39mdevice)\n\u001b[0;32m      6\u001b[0m \u001b[39m# detect the spoken language\u001b[39;00m\n\u001b[0;32m      7\u001b[0m _, probs \u001b[39m=\u001b[39m model\u001b[39m.\u001b[39mdetect_language(mel)\n",
      "\u001b[1;31mNameError\u001b[0m: name 'model' is not defined"
     ]
    }
   ],
   "source": [
    "audio = whisper.load_audio(r\"J:\\My Drive\\Recordings\\230718_1612.mp3\")\n",
    "audio = whisper.pad_or_trim(audio)\n",
    "# make log-Mel spectrogram and move to the same device as the model\n",
    "mel = whisper.log_mel_spectrogram(audio).to(model.device)\n",
    "\n",
    "# detect the spoken language\n",
    "_, probs = model.detect_language(mel)\n",
    "print(f\"Detected language: {max(probs, key=probs.get)}\")\n",
    "\n",
    "# decode the audio\n",
    "options = whisper.DecodingOptions()\n",
    "result = whisper.decode(model, mel, options)\n",
    "\n",
    "# print the recognized text\n",
    "print(result.text)"
   ]
  },
  {
   "cell_type": "code",
   "execution_count": 6,
   "metadata": {},
   "outputs": [],
   "source": [
    "audio_file = open(r\"J:\\My Drive\\Recordings\\230718_1612.mp3\", \"rb\")\n",
    "transcript = openai.Audio.transcribe(\"whisper-1\", audio_file)"
   ]
  },
  {
   "cell_type": "code",
   "execution_count": 7,
   "metadata": {},
   "outputs": [
    {
     "data": {
      "text/plain": [
       "<OpenAIObject at 0x1e955aafe90> JSON: {\n",
       "  \"text\": \"Wow, even the Canadian is wearing a jacket. It's that cold, huh? Yeah, well, I'm wearing shorts. It's not cold outside. But if I was wearing longs, I'd probably be okay. It's sort of a cane. Fair enough. Yeah, it's cold. How cold is it? I don't know. I would say... 60? 60... What do you say? 62? Because it's pretty humid, too. That's an issue. It's pretty humid. I don't know. I see. What's your guess? About 65 or something like that. Okay. Yeah. But it's probably 60% humidity. I know it's way above 40%. Because it's... Things are dripping and whatever. Condensing on the... How come we have this issue every year? It's not every year. Last year and this year. Because of steam. Last year they fixed the steam. Now the steam is broken again. A steam reheat. So to control the humidity, you cool things down. And then you heat things up. So the control of humidity is because of the labs? Yeah, you want to control the humidity. They control it even in a normal building. Not because of the labs. Because of the labs. If you do photoresistance, you need the humidity to be 40%. And MBE? Who cares? They're... We want it so there's no condensation. Well, you're going to have cooling lines and whatever. But then those can sweat. If they sweat, then you're in trouble. For the most part. Okay. Electronics to be able to run. Cooling things. Otherwise you can have arcing. Okay. I have a, I guess, related question. So... Six. It's 42, isn't it? No. What was the what? At the end, was it wrong? Was it 7 times 6? Or... I forget. Go ahead. I never read that book. So I, as a side project, I just picked up a pump to fix. A rotary vane pump. The famous Variant or Agilent? Agilent is the new name. Agilent is... Well, Agilent is the new name for HP. HP might have... Variant disappeared too. Chad over there does it all the time. And so... Chad? You know Chad? Over in... In chemistry. In the basement. Carl's no longer there. I haven't... I think I've seen him in the building. I haven't stopped to ask his name. So what you do is you buy... What do you call it? Repair kits. Yeah, but it's a... It's a whatchamacallit kit. There's... You know, so it has the vanes and whatever. New vanes and seals. It's a seal kit. Oh, new vanes too. So the one that I bought... They had two. One is called major kit. And the other one is minor. I got the minor. So you should go over and talk to Chad. He does this all the time. So is this the guy who's right across the room? Right beside... Not helium. Liquid nitrogen? Yes. Right across from there beside the elevator. Beside the elevator, okay. That's Chad. And then it's actually in the room down the hallway. Isn't that like a woodworking shop? That is, but next door is where he rebuilds the pumps. I see, okay. And so... Viko, I'm not gonna... Viko! I'm not gonna be here for long. It was just a quick question. Talk to Chad, because there is a certain... You know, you're following stuff, but there's a certain... So I started... Or I mentioned that I'm planning to clean using methanol and then with the vacuum oil, just the components. And then I remembered in one point, I don't know if it was you... Acetone dissolves plastic, so for the most part methanol should be okay. Methanol will even... You know, even Viton, any rubber will start to incorporate. The Viton will go into it a bit. Sorry, the methanol will go in a bit. It shouldn't melt plastic. Acetone will melt. But none of the plastics associated with that should be melted. My question was, I remember at some point you said sometimes you don't want to clean something that's like oil has built up. Maybe that is a seal itself. But I don't remember where... But what I would do is... Yeah, I'd do what... Chad does. Although he's not really been schooled. The people... It's like nowadays, you wouldn't type... In the day, I'd fix my own car. Now I sort of don't. Partly because I don't have time and partly because it's all computerized and a bit less simple to mess around with. Asking this guy, he'll say it's more simple. It's not. He has this thing that he plugs into the... I don't have one of those. It tells you stuff. So that aspect of it is simple, but now to actually go and do some work on it... Have you seen the apps? I think they're developed by the companies by themselves, but you can put your phone on multiple locations and based on the vibration, it'll tell you what the possible is. So again, I would say possible. So a good mechanic will listen. Will do the same sort of thing and even then, they're not 100% for sure either. And then, you know, the computer... Yeah. Yeah, it's just... So cleaning is okay then? Yeah, I would say cleaning is okay. I wouldn't use acetone. I'd use ethanol. And then... You know, the leaks... I mean, in principle, the problem with your pump is not the oil. No, the problem is the part that connects the engine. It's... What do we call them? The motor. And the pumping. Is it a two-stage? It's a two-stage. Right. I would say... It was cool opening it, though. Right, but I would say talk to... Chad does it all the time. I mean, you guys should know Chad rebuilds all the pumps. We didn't know. It's the part of the savviness that I need to get. And you guys do repair them normally? You don't send them in? No, I don't think they repair them. So what do they do with them? Just buy new ones? There are a couple of... I don't know. I haven't gotten to that part. But I've seen a couple of pumps that are laying around. Right. Again, it's part of Chad's job. And Chad's not just chemistry. He's arts and science. So it's part of his job to rebuild them. So he officially is... He might deny that and figure he's more chemistry, but he's not. He's officially the Eberle pump repair guy. That's good to know. Yeah. And certainly I think he would take... I think he would help you do it. That would be... Educating moment. Okay. That's good to know. Thank you.\"\n",
       "}"
      ]
     },
     "execution_count": 7,
     "metadata": {},
     "output_type": "execute_result"
    }
   ],
   "source": []
  },
  {
   "cell_type": "code",
   "execution_count": 2,
   "metadata": {},
   "outputs": [
    {
     "data": {
      "text/plain": [
       "'1.25.0'"
      ]
     },
     "execution_count": 2,
     "metadata": {},
     "output_type": "execute_result"
    }
   ],
   "source": [
    "import numpy as np\n",
    "np.version.version"
   ]
  },
  {
   "cell_type": "code",
   "execution_count": null,
   "metadata": {},
   "outputs": [],
   "source": []
  }
 ],
 "metadata": {
  "kernelspec": {
   "display_name": "gpt",
   "language": "python",
   "name": "python3"
  },
  "language_info": {
   "codemirror_mode": {
    "name": "ipython",
    "version": 3
   },
   "file_extension": ".py",
   "mimetype": "text/x-python",
   "name": "python",
   "nbconvert_exporter": "python",
   "pygments_lexer": "ipython3",
   "version": "3.11.4"
  },
  "orig_nbformat": 4
 },
 "nbformat": 4,
 "nbformat_minor": 2
}
